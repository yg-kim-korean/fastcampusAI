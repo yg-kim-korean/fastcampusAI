{
  "nbformat": 4,
  "nbformat_minor": 0,
  "metadata": {
    "colab": {
      "name": "패스트캠퍼스_numpy",
      "provenance": [],
      "authorship_tag": "ABX9TyOkgmiao6EqbbmNDebyQo7t",
      "include_colab_link": true
    },
    "kernelspec": {
      "name": "python3",
      "display_name": "Python 3"
    }
  },
  "cells": [
    {
      "cell_type": "markdown",
      "metadata": {
        "id": "view-in-github",
        "colab_type": "text"
      },
      "source": [
        "<a href=\"https://colab.research.google.com/github/yg-kim-korean/fastcampusAI/blob/main/%ED%8C%A8%EC%8A%A4%ED%8A%B8%EC%BA%A0%ED%8D%BC%EC%8A%A4_numpy.ipynb\" target=\"_parent\"><img src=\"https://colab.research.google.com/assets/colab-badge.svg\" alt=\"Open In Colab\"/></a>"
      ]
    },
    {
      "cell_type": "code",
      "metadata": {
        "id": "eFmtPOrYOli4"
      },
      "source": [
        "import tensorflow as tf"
      ],
      "execution_count": 1,
      "outputs": []
    },
    {
      "cell_type": "code",
      "metadata": {
        "colab": {
          "base_uri": "https://localhost:8080/",
          "height": 35
        },
        "id": "5vsFD11rOthT",
        "outputId": "9caddf2a-a0e8-4699-b002-3b5960e88448"
      },
      "source": [
        "tf.__version__"
      ],
      "execution_count": 2,
      "outputs": [
        {
          "output_type": "execute_result",
          "data": {
            "application/vnd.google.colaboratory.intrinsic+json": {
              "type": "string"
            },
            "text/plain": [
              "'2.4.1'"
            ]
          },
          "metadata": {
            "tags": []
          },
          "execution_count": 2
        }
      ]
    },
    {
      "cell_type": "code",
      "metadata": {
        "colab": {
          "base_uri": "https://localhost:8080/"
        },
        "id": "Of4vuNt5OwVS",
        "outputId": "0e1cd1bd-67c4-4916-9ff6-a4cbe8eb9343"
      },
      "source": [
        "print(\"gell\")"
      ],
      "execution_count": 3,
      "outputs": [
        {
          "output_type": "stream",
          "text": [
            "gell\n"
          ],
          "name": "stdout"
        }
      ]
    },
    {
      "cell_type": "code",
      "metadata": {
        "id": "jh0tQpq3Ow7u"
      },
      "source": [
        "import torch"
      ],
      "execution_count": 4,
      "outputs": []
    },
    {
      "cell_type": "code",
      "metadata": {
        "id": "S14o8KXQPog4"
      },
      "source": [
        "import numpy as np"
      ],
      "execution_count": 5,
      "outputs": []
    },
    {
      "cell_type": "code",
      "metadata": {
        "colab": {
          "base_uri": "https://localhost:8080/"
        },
        "id": "phyya3xZWLAE",
        "outputId": "19fd3f81-c1c5-407e-94f2-453a83f47564"
      },
      "source": [
        "arr = np.array(5)\r\n",
        "arr.shape"
      ],
      "execution_count": 6,
      "outputs": [
        {
          "output_type": "execute_result",
          "data": {
            "text/plain": [
              "()"
            ]
          },
          "metadata": {
            "tags": []
          },
          "execution_count": 6
        }
      ]
    },
    {
      "cell_type": "code",
      "metadata": {
        "colab": {
          "base_uri": "https://localhost:8080/"
        },
        "id": "JLPvNjWXWQMT",
        "outputId": "6675f2e1-fdff-4247-d718-3e7c8df24272"
      },
      "source": [
        "arr.ndim"
      ],
      "execution_count": 7,
      "outputs": [
        {
          "output_type": "execute_result",
          "data": {
            "text/plain": [
              "0"
            ]
          },
          "metadata": {
            "tags": []
          },
          "execution_count": 7
        }
      ]
    },
    {
      "cell_type": "code",
      "metadata": {
        "colab": {
          "base_uri": "https://localhost:8080/"
        },
        "id": "rdCUFTXnWvC6",
        "outputId": "616ab597-b331-4ab4-eba5-736254a9bd6f"
      },
      "source": [
        "zeros = np.zeros([3,3])\r\n",
        "zeros"
      ],
      "execution_count": 8,
      "outputs": [
        {
          "output_type": "execute_result",
          "data": {
            "text/plain": [
              "array([[0., 0., 0.],\n",
              "       [0., 0., 0.],\n",
              "       [0., 0., 0.]])"
            ]
          },
          "metadata": {
            "tags": []
          },
          "execution_count": 8
        }
      ]
    },
    {
      "cell_type": "code",
      "metadata": {
        "colab": {
          "base_uri": "https://localhost:8080/"
        },
        "id": "jAUsWJMwYJKU",
        "outputId": "05259734-dbe9-4274-a507-bbb01e0f2c1f"
      },
      "source": [
        "zeros=np.zeros(1)\r\n",
        "zeros"
      ],
      "execution_count": 9,
      "outputs": [
        {
          "output_type": "execute_result",
          "data": {
            "text/plain": [
              "array([0.])"
            ]
          },
          "metadata": {
            "tags": []
          },
          "execution_count": 9
        }
      ]
    },
    {
      "cell_type": "code",
      "metadata": {
        "colab": {
          "base_uri": "https://localhost:8080/"
        },
        "id": "Jbg8ONYAYLep",
        "outputId": "9274e8d3-aab5-4286-a0ca-0d258f816d1b"
      },
      "source": [
        "ones = np.ones([10,5])\r\n",
        "ones"
      ],
      "execution_count": 10,
      "outputs": [
        {
          "output_type": "execute_result",
          "data": {
            "text/plain": [
              "array([[1., 1., 1., 1., 1.],\n",
              "       [1., 1., 1., 1., 1.],\n",
              "       [1., 1., 1., 1., 1.],\n",
              "       [1., 1., 1., 1., 1.],\n",
              "       [1., 1., 1., 1., 1.],\n",
              "       [1., 1., 1., 1., 1.],\n",
              "       [1., 1., 1., 1., 1.],\n",
              "       [1., 1., 1., 1., 1.],\n",
              "       [1., 1., 1., 1., 1.],\n",
              "       [1., 1., 1., 1., 1.]])"
            ]
          },
          "metadata": {
            "tags": []
          },
          "execution_count": 10
        }
      ]
    },
    {
      "cell_type": "code",
      "metadata": {
        "colab": {
          "base_uri": "https://localhost:8080/"
        },
        "id": "ntIjU-DMYQph",
        "outputId": "bcbe6b7e-098e-4225-dfa2-7a36614a9a3e"
      },
      "source": [
        "ones * 5"
      ],
      "execution_count": 11,
      "outputs": [
        {
          "output_type": "execute_result",
          "data": {
            "text/plain": [
              "array([[5., 5., 5., 5., 5.],\n",
              "       [5., 5., 5., 5., 5.],\n",
              "       [5., 5., 5., 5., 5.],\n",
              "       [5., 5., 5., 5., 5.],\n",
              "       [5., 5., 5., 5., 5.],\n",
              "       [5., 5., 5., 5., 5.],\n",
              "       [5., 5., 5., 5., 5.],\n",
              "       [5., 5., 5., 5., 5.],\n",
              "       [5., 5., 5., 5., 5.],\n",
              "       [5., 5., 5., 5., 5.]])"
            ]
          },
          "metadata": {
            "tags": []
          },
          "execution_count": 11
        }
      ]
    },
    {
      "cell_type": "code",
      "metadata": {
        "colab": {
          "base_uri": "https://localhost:8080/"
        },
        "id": "XZ5gs78zYWGh",
        "outputId": "93eae950-99a2-4722-f429-d4870c53fffa"
      },
      "source": [
        "arr = np.arange(5)\r\n",
        "arr"
      ],
      "execution_count": 12,
      "outputs": [
        {
          "output_type": "execute_result",
          "data": {
            "text/plain": [
              "array([0, 1, 2, 3, 4])"
            ]
          },
          "metadata": {
            "tags": []
          },
          "execution_count": 12
        }
      ]
    },
    {
      "cell_type": "code",
      "metadata": {
        "colab": {
          "base_uri": "https://localhost:8080/"
        },
        "id": "qBwpTb5bYeDi",
        "outputId": "b1715589-f3a8-41f7-fb9f-83376dab6a0f"
      },
      "source": [
        "arr = np.arange(4,9)\r\n",
        "arr"
      ],
      "execution_count": 13,
      "outputs": [
        {
          "output_type": "execute_result",
          "data": {
            "text/plain": [
              "array([4, 5, 6, 7, 8])"
            ]
          },
          "metadata": {
            "tags": []
          },
          "execution_count": 13
        }
      ]
    },
    {
      "cell_type": "code",
      "metadata": {
        "colab": {
          "base_uri": "https://localhost:8080/"
        },
        "id": "o8RR8sLsYh6I",
        "outputId": "9a0e120b-9df7-4eea-beb7-c5e0b008f63f"
      },
      "source": [
        "arr = np.arange(9).reshape(3,3)\r\n",
        "arr"
      ],
      "execution_count": 14,
      "outputs": [
        {
          "output_type": "execute_result",
          "data": {
            "text/plain": [
              "array([[0, 1, 2],\n",
              "       [3, 4, 5],\n",
              "       [6, 7, 8]])"
            ]
          },
          "metadata": {
            "tags": []
          },
          "execution_count": 14
        }
      ]
    },
    {
      "cell_type": "code",
      "metadata": {
        "colab": {
          "base_uri": "https://localhost:8080/"
        },
        "id": "AUdwPZINZ0_Y",
        "outputId": "017105ce-d92c-485b-c0f4-9e76df3f7a1e"
      },
      "source": [
        "data = np.random.randn(3,3)\r\n",
        "data"
      ],
      "execution_count": 15,
      "outputs": [
        {
          "output_type": "execute_result",
          "data": {
            "text/plain": [
              "array([[ 0.64429459, -3.42581008, -1.40482663],\n",
              "       [-0.68281202, -0.79175731, -0.84905383],\n",
              "       [-2.39667728,  0.62916871,  1.11913582]])"
            ]
          },
          "metadata": {
            "tags": []
          },
          "execution_count": 15
        }
      ]
    },
    {
      "cell_type": "code",
      "metadata": {
        "colab": {
          "base_uri": "https://localhost:8080/"
        },
        "id": "WjgbxiEuaaYO",
        "outputId": "0e484f60-157b-47a8-a256-1bec1effb254"
      },
      "source": [
        "data <= 0"
      ],
      "execution_count": 16,
      "outputs": [
        {
          "output_type": "execute_result",
          "data": {
            "text/plain": [
              "array([[False,  True,  True],\n",
              "       [ True,  True,  True],\n",
              "       [ True, False, False]])"
            ]
          },
          "metadata": {
            "tags": []
          },
          "execution_count": 16
        }
      ]
    },
    {
      "cell_type": "code",
      "metadata": {
        "colab": {
          "base_uri": "https://localhost:8080/"
        },
        "id": "DVVepuZUabXF",
        "outputId": "a09149f2-cae4-4deb-c3d1-6609d8cb5203"
      },
      "source": [
        "data[data<=0] =1 \r\n",
        "data"
      ],
      "execution_count": 17,
      "outputs": [
        {
          "output_type": "execute_result",
          "data": {
            "text/plain": [
              "array([[0.64429459, 1.        , 1.        ],\n",
              "       [1.        , 1.        , 1.        ],\n",
              "       [1.        , 0.62916871, 1.11913582]])"
            ]
          },
          "metadata": {
            "tags": []
          },
          "execution_count": 17
        }
      ]
    },
    {
      "cell_type": "code",
      "metadata": {
        "colab": {
          "base_uri": "https://localhost:8080/"
        },
        "id": "2ZyasdGCadil",
        "outputId": "0ee5fa6f-6583-41ed-bdc6-73d5f5c23104"
      },
      "source": [
        "arr = np.arange(9).reshape(3,3)\r\n",
        "arr"
      ],
      "execution_count": 18,
      "outputs": [
        {
          "output_type": "execute_result",
          "data": {
            "text/plain": [
              "array([[0, 1, 2],\n",
              "       [3, 4, 5],\n",
              "       [6, 7, 8]])"
            ]
          },
          "metadata": {
            "tags": []
          },
          "execution_count": 18
        }
      ]
    },
    {
      "cell_type": "code",
      "metadata": {
        "colab": {
          "base_uri": "https://localhost:8080/"
        },
        "id": "iRjnm1J7axxd",
        "outputId": "c1d5a867-8d96-4515-b956-16bae2042cc7"
      },
      "source": [
        "arr + 3"
      ],
      "execution_count": 19,
      "outputs": [
        {
          "output_type": "execute_result",
          "data": {
            "text/plain": [
              "array([[ 3,  4,  5],\n",
              "       [ 6,  7,  8],\n",
              "       [ 9, 10, 11]])"
            ]
          },
          "metadata": {
            "tags": []
          },
          "execution_count": 19
        }
      ]
    },
    {
      "cell_type": "code",
      "metadata": {
        "colab": {
          "base_uri": "https://localhost:8080/"
        },
        "id": "kvMZX8Jfayj0",
        "outputId": "51b24a1a-cdf6-4a47-c310-1636bf652288"
      },
      "source": [
        "arr * 3"
      ],
      "execution_count": 20,
      "outputs": [
        {
          "output_type": "execute_result",
          "data": {
            "text/plain": [
              "array([[ 0,  3,  6],\n",
              "       [ 9, 12, 15],\n",
              "       [18, 21, 24]])"
            ]
          },
          "metadata": {
            "tags": []
          },
          "execution_count": 20
        }
      ]
    },
    {
      "cell_type": "code",
      "metadata": {
        "colab": {
          "base_uri": "https://localhost:8080/"
        },
        "id": "NUq394tqaznE",
        "outputId": "e3796676-aa4f-4ab1-f12c-439b5590fec1"
      },
      "source": [
        "arr + np.array([1,2,3])"
      ],
      "execution_count": 21,
      "outputs": [
        {
          "output_type": "execute_result",
          "data": {
            "text/plain": [
              "array([[ 1,  3,  5],\n",
              "       [ 4,  6,  8],\n",
              "       [ 7,  9, 11]])"
            ]
          },
          "metadata": {
            "tags": []
          },
          "execution_count": 21
        }
      ]
    },
    {
      "cell_type": "code",
      "metadata": {
        "colab": {
          "base_uri": "https://localhost:8080/"
        },
        "id": "8wh9-7i6a6kd",
        "outputId": "edfa42f0-d4e3-4118-ee41-74321be14e96"
      },
      "source": [
        "arr + arr"
      ],
      "execution_count": 22,
      "outputs": [
        {
          "output_type": "execute_result",
          "data": {
            "text/plain": [
              "array([[ 0,  2,  4],\n",
              "       [ 6,  8, 10],\n",
              "       [12, 14, 16]])"
            ]
          },
          "metadata": {
            "tags": []
          },
          "execution_count": 22
        }
      ]
    },
    {
      "cell_type": "code",
      "metadata": {
        "colab": {
          "base_uri": "https://localhost:8080/"
        },
        "id": "ZtytVoNpbEBM",
        "outputId": "df7dc107-74ab-4960-eb80-e0012e535a28"
      },
      "source": [
        "arr + 1"
      ],
      "execution_count": 23,
      "outputs": [
        {
          "output_type": "execute_result",
          "data": {
            "text/plain": [
              "array([[1, 2, 3],\n",
              "       [4, 5, 6],\n",
              "       [7, 8, 9]])"
            ]
          },
          "metadata": {
            "tags": []
          },
          "execution_count": 23
        }
      ]
    },
    {
      "cell_type": "code",
      "metadata": {
        "id": "pDFG7TT1bFAc"
      },
      "source": [
        "arr = np.random.randint(2, size=27).reshape(3,3,3)\r\n",
        "arr_2 = np.random.randint(2, size=9).reshape(3,3)"
      ],
      "execution_count": 24,
      "outputs": []
    },
    {
      "cell_type": "code",
      "metadata": {
        "colab": {
          "base_uri": "https://localhost:8080/"
        },
        "id": "V0uDPef2bUhF",
        "outputId": "9b122bb3-99bb-4b5c-a725-5f0cd5ad30aa"
      },
      "source": [
        "arr"
      ],
      "execution_count": 25,
      "outputs": [
        {
          "output_type": "execute_result",
          "data": {
            "text/plain": [
              "array([[[0, 1, 1],\n",
              "        [0, 0, 0],\n",
              "        [0, 1, 1]],\n",
              "\n",
              "       [[1, 1, 1],\n",
              "        [1, 1, 1],\n",
              "        [0, 1, 0]],\n",
              "\n",
              "       [[1, 0, 0],\n",
              "        [1, 0, 1],\n",
              "        [1, 0, 0]]])"
            ]
          },
          "metadata": {
            "tags": []
          },
          "execution_count": 25
        }
      ]
    },
    {
      "cell_type": "code",
      "metadata": {
        "colab": {
          "base_uri": "https://localhost:8080/"
        },
        "id": "_ceyOScFbVF9",
        "outputId": "bcd966f5-e599-4ff9-be33-e7ae137eea15"
      },
      "source": [
        "arr_2"
      ],
      "execution_count": 26,
      "outputs": [
        {
          "output_type": "execute_result",
          "data": {
            "text/plain": [
              "array([[0, 1, 0],\n",
              "       [0, 0, 1],\n",
              "       [1, 0, 1]])"
            ]
          },
          "metadata": {
            "tags": []
          },
          "execution_count": 26
        }
      ]
    },
    {
      "cell_type": "code",
      "metadata": {
        "colab": {
          "base_uri": "https://localhost:8080/"
        },
        "id": "lmUrb3xzbX3k",
        "outputId": "8d0aeeda-5a5a-4aa5-875c-9c8841da6d1c"
      },
      "source": [
        "arr+arr_2"
      ],
      "execution_count": 27,
      "outputs": [
        {
          "output_type": "execute_result",
          "data": {
            "text/plain": [
              "array([[[0, 2, 1],\n",
              "        [0, 0, 1],\n",
              "        [1, 1, 2]],\n",
              "\n",
              "       [[1, 2, 1],\n",
              "        [1, 1, 2],\n",
              "        [1, 1, 1]],\n",
              "\n",
              "       [[1, 1, 0],\n",
              "        [1, 0, 2],\n",
              "        [2, 0, 1]]])"
            ]
          },
          "metadata": {
            "tags": []
          },
          "execution_count": 27
        }
      ]
    },
    {
      "cell_type": "code",
      "metadata": {
        "colab": {
          "base_uri": "https://localhost:8080/"
        },
        "id": "4RHMF16ebbJt",
        "outputId": "a0250213-c380-492c-db14-4350fc14058b"
      },
      "source": [
        "np.sum(arr)"
      ],
      "execution_count": 28,
      "outputs": [
        {
          "output_type": "execute_result",
          "data": {
            "text/plain": [
              "15"
            ]
          },
          "metadata": {
            "tags": []
          },
          "execution_count": 28
        }
      ]
    },
    {
      "cell_type": "code",
      "metadata": {
        "colab": {
          "base_uri": "https://localhost:8080/"
        },
        "id": "rCKfHBKlbg39",
        "outputId": "56dfefd6-ad70-4216-bd09-b7312057262b"
      },
      "source": [
        "np.sum(arr+arr_2)"
      ],
      "execution_count": 29,
      "outputs": [
        {
          "output_type": "execute_result",
          "data": {
            "text/plain": [
              "27"
            ]
          },
          "metadata": {
            "tags": []
          },
          "execution_count": 29
        }
      ]
    },
    {
      "cell_type": "code",
      "metadata": {
        "colab": {
          "base_uri": "https://localhost:8080/"
        },
        "id": "K-aNqt1EbixE",
        "outputId": "a6b81513-c59a-44cd-aeae-38517d5e7e30"
      },
      "source": [
        "np.max(arr)"
      ],
      "execution_count": 30,
      "outputs": [
        {
          "output_type": "execute_result",
          "data": {
            "text/plain": [
              "1"
            ]
          },
          "metadata": {
            "tags": []
          },
          "execution_count": 30
        }
      ]
    },
    {
      "cell_type": "code",
      "metadata": {
        "colab": {
          "base_uri": "https://localhost:8080/"
        },
        "id": "Trs8VWXAbj_W",
        "outputId": "cc01439e-d737-4fd1-e51f-50184306a1e1"
      },
      "source": [
        "arr = np.array([1,6,3,7,3,2,9])\r\n",
        "arr"
      ],
      "execution_count": 31,
      "outputs": [
        {
          "output_type": "execute_result",
          "data": {
            "text/plain": [
              "array([1, 6, 3, 7, 3, 2, 9])"
            ]
          },
          "metadata": {
            "tags": []
          },
          "execution_count": 31
        }
      ]
    },
    {
      "cell_type": "code",
      "metadata": {
        "colab": {
          "base_uri": "https://localhost:8080/"
        },
        "id": "iYwBXulpcNhT",
        "outputId": "b3a1a90c-6d98-4ddc-d0c0-18f7d6ec4dc8"
      },
      "source": [
        "np.argmax(arr)"
      ],
      "execution_count": 32,
      "outputs": [
        {
          "output_type": "execute_result",
          "data": {
            "text/plain": [
              "6"
            ]
          },
          "metadata": {
            "tags": []
          },
          "execution_count": 32
        }
      ]
    },
    {
      "cell_type": "markdown",
      "metadata": {
        "id": "ymY7qfHdcPWr"
      },
      "source": [
        "6번째 인덱스가 제일 크다는거"
      ]
    },
    {
      "cell_type": "code",
      "metadata": {
        "id": "US3zqgUscTq0"
      },
      "source": [
        ""
      ],
      "execution_count": 32,
      "outputs": []
    },
    {
      "cell_type": "code",
      "metadata": {
        "id": "-5DuwQ8pcWKl"
      },
      "source": [
        ""
      ],
      "execution_count": 32,
      "outputs": []
    },
    {
      "cell_type": "code",
      "metadata": {
        "id": "OZHF2m_acWSU"
      },
      "source": [
        "arr= np.array([3,6,5,3,3,1])"
      ],
      "execution_count": 33,
      "outputs": []
    },
    {
      "cell_type": "code",
      "metadata": {
        "colab": {
          "base_uri": "https://localhost:8080/"
        },
        "id": "h_-SKVqDcbCO",
        "outputId": "21cda13c-dc68-4c23-f6dc-32c1e4b001b3"
      },
      "source": [
        "np.unique(arr)"
      ],
      "execution_count": 34,
      "outputs": [
        {
          "output_type": "execute_result",
          "data": {
            "text/plain": [
              "array([1, 3, 5, 6])"
            ]
          },
          "metadata": {
            "tags": []
          },
          "execution_count": 34
        }
      ]
    },
    {
      "cell_type": "code",
      "metadata": {
        "id": "zjrlSBxVccfT"
      },
      "source": [
        "arr = np.array([[1,2,3],[1,2,3]])"
      ],
      "execution_count": 35,
      "outputs": []
    },
    {
      "cell_type": "code",
      "metadata": {
        "id": "VIva4rbtctrC",
        "colab": {
          "base_uri": "https://localhost:8080/"
        },
        "outputId": "862ac77d-14ce-4d30-827a-869933d21906"
      },
      "source": [
        "arr.dtype"
      ],
      "execution_count": 36,
      "outputs": [
        {
          "output_type": "execute_result",
          "data": {
            "text/plain": [
              "dtype('int64')"
            ]
          },
          "metadata": {
            "tags": []
          },
          "execution_count": 36
        }
      ]
    },
    {
      "cell_type": "code",
      "metadata": {
        "id": "CVHD9pnvcumK"
      },
      "source": [
        "arr = np.array([[1,2,3],[1,2,3]])"
      ],
      "execution_count": 40,
      "outputs": []
    },
    {
      "cell_type": "code",
      "metadata": {
        "colab": {
          "base_uri": "https://localhost:8080/"
        },
        "id": "EbmDPlNF3h88",
        "outputId": "ec73b0f8-dc5e-4501-f2ad-6e2cab4b9e54"
      },
      "source": [
        "arr.shape"
      ],
      "execution_count": 38,
      "outputs": [
        {
          "output_type": "execute_result",
          "data": {
            "text/plain": [
              "(2, 3)"
            ]
          },
          "metadata": {
            "tags": []
          },
          "execution_count": 38
        }
      ]
    },
    {
      "cell_type": "code",
      "metadata": {
        "colab": {
          "base_uri": "https://localhost:8080/"
        },
        "id": "LWeSNj-l3jgB",
        "outputId": "f93a3109-faf7-4ab4-e3c0-29ba19567202"
      },
      "source": [
        "arr.reshape([6]).shape"
      ],
      "execution_count": 42,
      "outputs": [
        {
          "output_type": "execute_result",
          "data": {
            "text/plain": [
              "(6,)"
            ]
          },
          "metadata": {
            "tags": []
          },
          "execution_count": 42
        }
      ]
    },
    {
      "cell_type": "code",
      "metadata": {
        "colab": {
          "base_uri": "https://localhost:8080/"
        },
        "id": "jSu4ZEJH3pQ6",
        "outputId": "d6ca4b52-831a-43e6-f186-20d65a056c2f"
      },
      "source": [
        "arr.reshape(-1)"
      ],
      "execution_count": 43,
      "outputs": [
        {
          "output_type": "execute_result",
          "data": {
            "text/plain": [
              "array([1, 2, 3, 1, 2, 3])"
            ]
          },
          "metadata": {
            "tags": []
          },
          "execution_count": 43
        }
      ]
    },
    {
      "cell_type": "code",
      "metadata": {
        "colab": {
          "base_uri": "https://localhost:8080/"
        },
        "id": "3vuF1kgc3v1x",
        "outputId": "dc38e8f5-a265-4656-ada3-568f6d9defdb"
      },
      "source": [
        "arr = np.random.randn(8,8)\r\n",
        "arr.shape"
      ],
      "execution_count": 44,
      "outputs": [
        {
          "output_type": "execute_result",
          "data": {
            "text/plain": [
              "(8, 8)"
            ]
          },
          "metadata": {
            "tags": []
          },
          "execution_count": 44
        }
      ]
    },
    {
      "cell_type": "code",
      "metadata": {
        "colab": {
          "base_uri": "https://localhost:8080/"
        },
        "id": "yGggYzE83-iJ",
        "outputId": "6cc7995c-8770-4d08-82a6-76c0c7b99287"
      },
      "source": [
        "arr = arr.reshape(32,2)\r\n",
        "arr.shape"
      ],
      "execution_count": 48,
      "outputs": [
        {
          "output_type": "execute_result",
          "data": {
            "text/plain": [
              "(32, 2)"
            ]
          },
          "metadata": {
            "tags": []
          },
          "execution_count": 48
        }
      ]
    },
    {
      "cell_type": "code",
      "metadata": {
        "colab": {
          "base_uri": "https://localhost:8080/"
        },
        "id": "d3Udy9q84BeA",
        "outputId": "f3678b9f-42b2-4573-edb7-c5dbfe37514b"
      },
      "source": [
        "arr = arr.reshape(-1,2,1)\r\n",
        "arr.shape"
      ],
      "execution_count": 50,
      "outputs": [
        {
          "output_type": "execute_result",
          "data": {
            "text/plain": [
              "(32, 2, 1)"
            ]
          },
          "metadata": {
            "tags": []
          },
          "execution_count": 50
        }
      ]
    },
    {
      "cell_type": "code",
      "metadata": {
        "colab": {
          "base_uri": "https://localhost:8080/"
        },
        "id": "Lvdl8URr4LwB",
        "outputId": "5d315d90-cfcb-449e-97d2-9ec97d35eb9b"
      },
      "source": [
        "arr.shape"
      ],
      "execution_count": 51,
      "outputs": [
        {
          "output_type": "execute_result",
          "data": {
            "text/plain": [
              "(32, 2, 1)"
            ]
          },
          "metadata": {
            "tags": []
          },
          "execution_count": 51
        }
      ]
    },
    {
      "cell_type": "code",
      "metadata": {
        "colab": {
          "base_uri": "https://localhost:8080/"
        },
        "id": "tXKn8Z6v4SQ6",
        "outputId": "488792bc-c327-48ca-baa7-0b23452937d6"
      },
      "source": [
        "arr = arr.ravel()\r\n",
        "arr.shape"
      ],
      "execution_count": 53,
      "outputs": [
        {
          "output_type": "execute_result",
          "data": {
            "text/plain": [
              "(64,)"
            ]
          },
          "metadata": {
            "tags": []
          },
          "execution_count": 53
        }
      ]
    },
    {
      "cell_type": "code",
      "metadata": {
        "colab": {
          "base_uri": "https://localhost:8080/"
        },
        "id": "PiTOpotL4VVQ",
        "outputId": "9e642fcb-8c41-4c04-f835-40903f98b541"
      },
      "source": [
        "arr.shape"
      ],
      "execution_count": 54,
      "outputs": [
        {
          "output_type": "execute_result",
          "data": {
            "text/plain": [
              "(64,)"
            ]
          },
          "metadata": {
            "tags": []
          },
          "execution_count": 54
        }
      ]
    },
    {
      "cell_type": "code",
      "metadata": {
        "colab": {
          "base_uri": "https://localhost:8080/"
        },
        "id": "QeXf68ke6CfF",
        "outputId": "2bab3437-4ec3-489c-ad11-1071f458ae69"
      },
      "source": [
        "arr=np.expand_dims(arr,-1)\r\n",
        "arr.shape"
      ],
      "execution_count": 55,
      "outputs": [
        {
          "output_type": "execute_result",
          "data": {
            "text/plain": [
              "(64, 1)"
            ]
          },
          "metadata": {
            "tags": []
          },
          "execution_count": 55
        }
      ]
    },
    {
      "cell_type": "code",
      "metadata": {
        "id": "_fF7UgDW6Fpl"
      },
      "source": [
        "arr = arr.ravel()"
      ],
      "execution_count": 56,
      "outputs": []
    },
    {
      "cell_type": "code",
      "metadata": {
        "colab": {
          "base_uri": "https://localhost:8080/"
        },
        "id": "eN6e3j1y6I6t",
        "outputId": "1fffa690-af1b-4274-dc5f-9b9b6886b8be"
      },
      "source": [
        "arr.shape"
      ],
      "execution_count": 57,
      "outputs": [
        {
          "output_type": "execute_result",
          "data": {
            "text/plain": [
              "(64,)"
            ]
          },
          "metadata": {
            "tags": []
          },
          "execution_count": 57
        }
      ]
    },
    {
      "cell_type": "code",
      "metadata": {
        "colab": {
          "base_uri": "https://localhost:8080/"
        },
        "id": "vFzD-oJB6J1F",
        "outputId": "6e25af0f-c47a-48a1-b474-3dc59d59064b"
      },
      "source": [
        "arr = np.expand_dims(arr,-1)\r\n",
        "arr.shape"
      ],
      "execution_count": 58,
      "outputs": [
        {
          "output_type": "execute_result",
          "data": {
            "text/plain": [
              "(64, 1)"
            ]
          },
          "metadata": {
            "tags": []
          },
          "execution_count": 58
        }
      ]
    },
    {
      "cell_type": "code",
      "metadata": {
        "id": "k37YP-Md6Nu2"
      },
      "source": [
        ""
      ],
      "execution_count": null,
      "outputs": []
    },
    {
      "cell_type": "code",
      "metadata": {
        "id": "uSNGlHcv6Zj5"
      },
      "source": [
        ""
      ],
      "execution_count": null,
      "outputs": []
    },
    {
      "cell_type": "code",
      "metadata": {
        "id": "LtHFOARN6Zmw"
      },
      "source": [
        ""
      ],
      "execution_count": null,
      "outputs": []
    },
    {
      "cell_type": "code",
      "metadata": {
        "id": "vvp42wqC6Zpz"
      },
      "source": [
        ""
      ],
      "execution_count": null,
      "outputs": []
    },
    {
      "cell_type": "code",
      "metadata": {
        "id": "xwrs92Oe6ZtU"
      },
      "source": [
        ""
      ],
      "execution_count": null,
      "outputs": []
    },
    {
      "cell_type": "code",
      "metadata": {
        "id": "I8wEt74R6ZwI"
      },
      "source": [
        ""
      ],
      "execution_count": null,
      "outputs": []
    }
  ]
}