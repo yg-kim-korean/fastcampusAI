{
  "nbformat": 4,
  "nbformat_minor": 0,
  "metadata": {
    "colab": {
      "name": "fastcampus 딥러닝 실전 프로젝트",
      "provenance": [],
      "toc_visible": true,
      "mount_file_id": "18GMses-8-l5o_RONL8z-fDX0bK_-sWtP",
      "authorship_tag": "ABX9TyMYtO3r+W7x1Lp/LARJ6gpf",
      "include_colab_link": true
    },
    "kernelspec": {
      "name": "python3",
      "display_name": "Python 3"
    },
    "accelerator": "GPU"
  },
  "cells": [
    {
      "cell_type": "markdown",
      "metadata": {
        "id": "view-in-github",
        "colab_type": "text"
      },
      "source": [
        "<a href=\"https://colab.research.google.com/github/yg-kim-korean/fastcampusAI/blob/main/fastcampus_%EB%94%A5%EB%9F%AC%EB%8B%9D_%EC%8B%A4%EC%A0%84_%ED%94%84%EB%A1%9C%EC%A0%9D%ED%8A%B8.ipynb\" target=\"_parent\"><img src=\"https://colab.research.google.com/assets/colab-badge.svg\" alt=\"Open In Colab\"/></a>"
      ]
    },
    {
      "cell_type": "code",
      "metadata": {
        "colab": {
          "base_uri": "https://localhost:8080/"
        },
        "id": "LqVY_KGzrQmF",
        "outputId": "01377c01-f8a9-4d7d-94ff-5b72200f4ddf"
      },
      "source": [
        "!nvidia-smi"
      ],
      "execution_count": 27,
      "outputs": [
        {
          "output_type": "stream",
          "text": [
            "Wed Feb 17 01:33:57 2021       \n",
            "+-----------------------------------------------------------------------------+\n",
            "| NVIDIA-SMI 460.39       Driver Version: 460.32.03    CUDA Version: 11.2     |\n",
            "|-------------------------------+----------------------+----------------------+\n",
            "| GPU  Name        Persistence-M| Bus-Id        Disp.A | Volatile Uncorr. ECC |\n",
            "| Fan  Temp  Perf  Pwr:Usage/Cap|         Memory-Usage | GPU-Util  Compute M. |\n",
            "|                               |                      |               MIG M. |\n",
            "|===============================+======================+======================|\n",
            "|   0  Tesla T4            Off  | 00000000:00:04.0 Off |                    0 |\n",
            "| N/A   36C    P8     9W /  70W |      0MiB / 15109MiB |      0%      Default |\n",
            "|                               |                      |                  N/A |\n",
            "+-------------------------------+----------------------+----------------------+\n",
            "                                                                               \n",
            "+-----------------------------------------------------------------------------+\n",
            "| Processes:                                                                  |\n",
            "|  GPU   GI   CI        PID   Type   Process name                  GPU Memory |\n",
            "|        ID   ID                                                   Usage      |\n",
            "|=============================================================================|\n",
            "|  No running processes found                                                 |\n",
            "+-----------------------------------------------------------------------------+\n"
          ],
          "name": "stdout"
        }
      ]
    },
    {
      "cell_type": "code",
      "metadata": {
        "id": "aowoftwV_72V"
      },
      "source": [
        "#라이브러리 임포트\r\n",
        "import tensorflow as tf\r\n",
        "from tensorflow import keras\r\n",
        "import numpy as np\r\n",
        "import os\r\n",
        "import re\r\n",
        "from PIL import Image\r\n",
        "import shutil\r\n",
        "import random\r\n",
        "import matplotlib.pyplot as plt\r\n"
      ],
      "execution_count": 28,
      "outputs": []
    },
    {
      "cell_type": "code",
      "metadata": {
        "colab": {
          "base_uri": "https://localhost:8080/"
        },
        "id": "cLnXFFtKAUyf",
        "outputId": "d9295681-76bc-4347-c2e7-f8e7b8ede7a5"
      },
      "source": [
        "print(tf.__version__)\r\n",
        "print(keras.__version__)"
      ],
      "execution_count": 29,
      "outputs": [
        {
          "output_type": "stream",
          "text": [
            "2.4.1\n",
            "2.4.0\n"
          ],
          "name": "stdout"
        }
      ]
    },
    {
      "cell_type": "code",
      "metadata": {
        "id": "XzA3dOmPAagN",
        "colab": {
          "base_uri": "https://localhost:8080/",
          "height": 106
        },
        "outputId": "3c083a74-0eb1-4b32-b43e-279306906a92"
      },
      "source": [
        "import gdown\r\n",
        "url = 'https://drive.google.com/uc?id=1dIR9ANjUsV9dWa0pS9J0c2KUGMfpIRG0'\r\n",
        "fname = 'oxford_pet.zip'\r\n",
        "gdown.download(url, fname, quiet=False)"
      ],
      "execution_count": 30,
      "outputs": [
        {
          "output_type": "stream",
          "text": [
            "Downloading...\n",
            "From: https://drive.google.com/uc?id=1dIR9ANjUsV9dWa0pS9J0c2KUGMfpIRG0\n",
            "To: /content/oxford_pet.zip\n",
            "811MB [00:06, 126MB/s]\n"
          ],
          "name": "stderr"
        },
        {
          "output_type": "execute_result",
          "data": {
            "application/vnd.google.colaboratory.intrinsic+json": {
              "type": "string"
            },
            "text/plain": [
              "'oxford_pet.zip'"
            ]
          },
          "metadata": {
            "tags": []
          },
          "execution_count": 30
        }
      ]
    },
    {
      "cell_type": "code",
      "metadata": {
        "colab": {
          "base_uri": "https://localhost:8080/"
        },
        "id": "Aw7ieOhkAzXV",
        "outputId": "b941bff0-dda3-4329-ad6f-890ff670bff5"
      },
      "source": [
        "## Oxford_pet.zip이 보이는지 확인\r\n",
        "!ls -l"
      ],
      "execution_count": 31,
      "outputs": [
        {
          "output_type": "stream",
          "text": [
            "total 791584\n",
            "drwx------ 4 root root      4096 Feb 17 00:38 drive\n",
            "drwxr-xr-x 4 root root      4096 Feb 17 00:38 oxford_pet\n",
            "-rw-r--r-- 1 root root 810565619 Feb 17 01:34 oxford_pet.zip\n",
            "drwxr-xr-x 1 root root      4096 Feb 10 14:40 sample_data\n"
          ],
          "name": "stdout"
        }
      ]
    },
    {
      "cell_type": "code",
      "metadata": {
        "colab": {
          "base_uri": "https://localhost:8080/"
        },
        "id": "ThVIwJfhOUbc",
        "outputId": "e58d6196-dbb8-4043-bc54-ba4ecc32c3bd"
      },
      "source": [
        "##압축풀기\r\n",
        "!unzip -q oxford_pet.zip -d oxford_pet"
      ],
      "execution_count": 32,
      "outputs": [
        {
          "output_type": "stream",
          "text": [
            "replace oxford_pet/annotations/._trimaps? [y]es, [n]o, [A]ll, [N]one, [r]ename: A\n",
            "All\n"
          ],
          "name": "stdout"
        }
      ]
    },
    {
      "cell_type": "code",
      "metadata": {
        "colab": {
          "base_uri": "https://localhost:8080/"
        },
        "id": "C63vaAkeOYoa",
        "outputId": "907d43a2-121d-4a4b-8bb2-6fdddfbd9ce1"
      },
      "source": [
        "##압축이풀린 directory 확인\r\n",
        "!ls -l"
      ],
      "execution_count": 33,
      "outputs": [
        {
          "output_type": "stream",
          "text": [
            "total 791584\n",
            "drwx------ 4 root root      4096 Feb 17 00:38 drive\n",
            "drwxr-xr-x 4 root root      4096 Feb 17 00:38 oxford_pet\n",
            "-rw-r--r-- 1 root root 810565619 Feb 17 01:34 oxford_pet.zip\n",
            "drwxr-xr-x 1 root root      4096 Feb 10 14:40 sample_data\n"
          ],
          "name": "stdout"
        }
      ]
    },
    {
      "cell_type": "code",
      "metadata": {
        "id": "5bbV8Og7OyfL"
      },
      "source": [
        "##디렉터리 설정\r\n",
        "cur_dir = os.getcwd()\r\n",
        "data_dir = os.path.join(cur_dir, 'oxford_pet')\r\n",
        "image_dir = os.path.join(data_dir, 'images')"
      ],
      "execution_count": 34,
      "outputs": []
    },
    {
      "cell_type": "code",
      "metadata": {
        "colab": {
          "base_uri": "https://localhost:8080/"
        },
        "id": "H8lzhQK2PyX6",
        "outputId": "84d34db8-2a14-47ed-9822-d20b3a5d109d"
      },
      "source": [
        "#image file 수 확인\r\n",
        "images_files = [fname for fname in os.listdir(image_dir) if os.path.splitext(fname)[-1] =='.jpg']\r\n",
        "print(len(images_files))"
      ],
      "execution_count": 35,
      "outputs": [
        {
          "output_type": "stream",
          "text": [
            "7390\n"
          ],
          "name": "stdout"
        }
      ]
    },
    {
      "cell_type": "code",
      "metadata": {
        "id": "g7v7U9lxUUle"
      },
      "source": [
        "## image file 들을 읽어서 channel이 3이 아닌 image는 삭제\r\n",
        "for images_file in images_files:\r\n",
        "  image_path = os.path.join(image_dir, images_file)\r\n",
        "  image = Image.open(image_path)\r\n",
        "  image_mode = image.mode\r\n",
        "  if image_mode !='RGB':\r\n",
        "    print(images_file, image_mode)\r\n",
        "    image = np.asarray(image)\r\n",
        "    print(image.shape)\r\n",
        "    os.remove(image_path)"
      ],
      "execution_count": 41,
      "outputs": []
    },
    {
      "cell_type": "code",
      "metadata": {
        "colab": {
          "base_uri": "https://localhost:8080/"
        },
        "id": "s-emzvf0o8m7",
        "outputId": "e0146ba7-fab0-44f9-c982-846358387155"
      },
      "source": [
        "images_files[:10]"
      ],
      "execution_count": 42,
      "outputs": [
        {
          "output_type": "execute_result",
          "data": {
            "text/plain": [
              "['Ragdoll_118.jpg',\n",
              " 'Persian_194.jpg',\n",
              " 'american_pit_bull_terrier_69.jpg',\n",
              " 'german_shorthaired_60.jpg',\n",
              " 'Siamese_83.jpg',\n",
              " 'Ragdoll_132.jpg',\n",
              " 'german_shorthaired_128.jpg',\n",
              " 'scottish_terrier_73.jpg',\n",
              " 'wheaten_terrier_197.jpg',\n",
              " 'chihuahua_159.jpg']"
            ]
          },
          "metadata": {
            "tags": []
          },
          "execution_count": 42
        }
      ]
    },
    {
      "cell_type": "code",
      "metadata": {
        "id": "DB-O_aQ7U64P",
        "colab": {
          "base_uri": "https://localhost:8080/"
        },
        "outputId": "90204115-fb7b-4e54-f5e2-ce3031c29cbc"
      },
      "source": [
        "#image file 수 확인\r\n",
        "images_files = [fname for fname in os.listdir(image_dir) if os.path.splitext(fname)[-1] =='.jpg']\r\n",
        "print(len(images_files))"
      ],
      "execution_count": 38,
      "outputs": [
        {
          "output_type": "stream",
          "text": [
            "7378\n"
          ],
          "name": "stdout"
        }
      ]
    },
    {
      "cell_type": "code",
      "metadata": {
        "colab": {
          "base_uri": "https://localhost:8080/"
        },
        "id": "tm0qAHWaoAjP",
        "outputId": "1072c682-4684-41d7-cd87-e816457fb678"
      },
      "source": [
        "class_list = set()\r\n",
        "for image_file in images_files:\r\n",
        "  file_name = os.path.splitext(image_file)[0]\r\n",
        "  class_name = re.sub('_\\d+', '',file_name)\r\n",
        "  class_list.add(class_name)\r\n",
        "class_list = list(class_list)\r\n",
        "print(len(class_list))"
      ],
      "execution_count": 43,
      "outputs": [
        {
          "output_type": "stream",
          "text": [
            "37\n"
          ],
          "name": "stdout"
        }
      ]
    },
    {
      "cell_type": "code",
      "metadata": {
        "colab": {
          "base_uri": "https://localhost:8080/"
        },
        "id": "amb6ILHVoSNA",
        "outputId": "4726a41a-b649-4935-b76d-849a3abccf2b"
      },
      "source": [
        "class_list.sort()\r\n",
        "class_list"
      ],
      "execution_count": 44,
      "outputs": [
        {
          "output_type": "execute_result",
          "data": {
            "text/plain": [
              "['Abyssinian',\n",
              " 'Bengal',\n",
              " 'Birman',\n",
              " 'Bombay',\n",
              " 'British_Shorthair',\n",
              " 'Egyptian_Mau',\n",
              " 'Maine_Coon',\n",
              " 'Persian',\n",
              " 'Ragdoll',\n",
              " 'Russian_Blue',\n",
              " 'Siamese',\n",
              " 'Sphynx',\n",
              " 'american_bulldog',\n",
              " 'american_pit_bull_terrier',\n",
              " 'basset_hound',\n",
              " 'beagle',\n",
              " 'boxer',\n",
              " 'chihuahua',\n",
              " 'english_cocker_spaniel',\n",
              " 'english_setter',\n",
              " 'german_shorthaired',\n",
              " 'great_pyrenees',\n",
              " 'havanese',\n",
              " 'japanese_chin',\n",
              " 'keeshond',\n",
              " 'leonberger',\n",
              " 'miniature_pinscher',\n",
              " 'newfoundland',\n",
              " 'pomeranian',\n",
              " 'pug',\n",
              " 'saint_bernard',\n",
              " 'samoyed',\n",
              " 'scottish_terrier',\n",
              " 'shiba_inu',\n",
              " 'staffordshire_bull_terrier',\n",
              " 'wheaten_terrier',\n",
              " 'yorkshire_terrier']"
            ]
          },
          "metadata": {
            "tags": []
          },
          "execution_count": 44
        }
      ]
    },
    {
      "cell_type": "code",
      "metadata": {
        "colab": {
          "base_uri": "https://localhost:8080/",
          "height": 35
        },
        "id": "XfXMsMompEqP",
        "outputId": "bbc7d0ee-ae46-4c5e-a38f-585151a3d5fd"
      },
      "source": [
        "class_list[1]"
      ],
      "execution_count": 45,
      "outputs": [
        {
          "output_type": "execute_result",
          "data": {
            "application/vnd.google.colaboratory.intrinsic+json": {
              "type": "string"
            },
            "text/plain": [
              "'Bengal'"
            ]
          },
          "metadata": {
            "tags": []
          },
          "execution_count": 45
        }
      ]
    },
    {
      "cell_type": "code",
      "metadata": {
        "colab": {
          "base_uri": "https://localhost:8080/"
        },
        "id": "-xdcQqmTpGYf",
        "outputId": "3f0664dc-5ca6-43aa-d187-afef23a82671"
      },
      "source": [
        "class2idx = {cls:idx for idx, cls in enumerate(class_list)}\r\n",
        "class2idx"
      ],
      "execution_count": 47,
      "outputs": [
        {
          "output_type": "execute_result",
          "data": {
            "text/plain": [
              "{'Abyssinian': 0,\n",
              " 'Bengal': 1,\n",
              " 'Birman': 2,\n",
              " 'Bombay': 3,\n",
              " 'British_Shorthair': 4,\n",
              " 'Egyptian_Mau': 5,\n",
              " 'Maine_Coon': 6,\n",
              " 'Persian': 7,\n",
              " 'Ragdoll': 8,\n",
              " 'Russian_Blue': 9,\n",
              " 'Siamese': 10,\n",
              " 'Sphynx': 11,\n",
              " 'american_bulldog': 12,\n",
              " 'american_pit_bull_terrier': 13,\n",
              " 'basset_hound': 14,\n",
              " 'beagle': 15,\n",
              " 'boxer': 16,\n",
              " 'chihuahua': 17,\n",
              " 'english_cocker_spaniel': 18,\n",
              " 'english_setter': 19,\n",
              " 'german_shorthaired': 20,\n",
              " 'great_pyrenees': 21,\n",
              " 'havanese': 22,\n",
              " 'japanese_chin': 23,\n",
              " 'keeshond': 24,\n",
              " 'leonberger': 25,\n",
              " 'miniature_pinscher': 26,\n",
              " 'newfoundland': 27,\n",
              " 'pomeranian': 28,\n",
              " 'pug': 29,\n",
              " 'saint_bernard': 30,\n",
              " 'samoyed': 31,\n",
              " 'scottish_terrier': 32,\n",
              " 'shiba_inu': 33,\n",
              " 'staffordshire_bull_terrier': 34,\n",
              " 'wheaten_terrier': 35,\n",
              " 'yorkshire_terrier': 36}"
            ]
          },
          "metadata": {
            "tags": []
          },
          "execution_count": 47
        }
      ]
    },
    {
      "cell_type": "code",
      "metadata": {
        "colab": {
          "base_uri": "https://localhost:8080/"
        },
        "id": "g4B2slRDpNJB",
        "outputId": "ba326fce-d6ee-4a83-fbe2-7c43e84b5455"
      },
      "source": [
        "class2idx['Bengal']"
      ],
      "execution_count": 48,
      "outputs": [
        {
          "output_type": "execute_result",
          "data": {
            "text/plain": [
              "1"
            ]
          },
          "metadata": {
            "tags": []
          },
          "execution_count": 48
        }
      ]
    },
    {
      "cell_type": "code",
      "metadata": {
        "id": "bF5kTlCqpXnX"
      },
      "source": [
        "##train, validation directory 생성\r\n",
        "train_dir = os.path.join(data_dir, 'train')\r\n",
        "val_dir = os.path.join(data_dir, 'validation')\r\n",
        "os.makedirs(train_dir, exist_ok=True)\r\n",
        "os.makedirs(val_dir, exist_ok=True)"
      ],
      "execution_count": 49,
      "outputs": []
    },
    {
      "cell_type": "code",
      "metadata": {
        "id": "nJACnokFpobP"
      },
      "source": [
        "images_files.sort()"
      ],
      "execution_count": 50,
      "outputs": []
    },
    {
      "cell_type": "code",
      "metadata": {
        "colab": {
          "base_uri": "https://localhost:8080/"
        },
        "id": "X-aTp09Yp0MQ",
        "outputId": "43d09713-f7ca-4527-e46b-c94081b45cb9"
      },
      "source": [
        "images_files[:10]"
      ],
      "execution_count": 51,
      "outputs": [
        {
          "output_type": "execute_result",
          "data": {
            "text/plain": [
              "['Abyssinian_1.jpg',\n",
              " 'Abyssinian_10.jpg',\n",
              " 'Abyssinian_100.jpg',\n",
              " 'Abyssinian_101.jpg',\n",
              " 'Abyssinian_102.jpg',\n",
              " 'Abyssinian_103.jpg',\n",
              " 'Abyssinian_104.jpg',\n",
              " 'Abyssinian_105.jpg',\n",
              " 'Abyssinian_106.jpg',\n",
              " 'Abyssinian_107.jpg']"
            ]
          },
          "metadata": {
            "tags": []
          },
          "execution_count": 51
        }
      ]
    },
    {
      "cell_type": "code",
      "metadata": {
        "id": "gK-SZHTRp1sP"
      },
      "source": [
        "cnt=0\r\n",
        "previous_class = ''\r\n",
        "for image_file in images_files:\r\n",
        "  file_name = os.path.splitext(image_file)[0]\r\n",
        "  class_name = re.sub('_\\d+', '',file_name)\r\n",
        "  if class_name == previous_class:\r\n",
        "    cnt +=1\r\n",
        "  else:\r\n",
        "    cnt = 1\r\n",
        "  if cnt<= 160:\r\n",
        "    cpath = train_dir\r\n",
        "  else:\r\n",
        "    cpath = val_dir\r\n",
        "  image_path = os.path.join(image_dir, image_file)\r\n",
        "  shutil.copy(image_path, cpath)\r\n",
        "  previous_class = class_name\r\n",
        "  "
      ],
      "execution_count": 52,
      "outputs": []
    },
    {
      "cell_type": "code",
      "metadata": {
        "id": "c0UrSJJQqdJC"
      },
      "source": [
        "train_images = os.listdir(train_dir)\r\n",
        "val_images = os.listdir(val_dir)"
      ],
      "execution_count": 53,
      "outputs": []
    },
    {
      "cell_type": "code",
      "metadata": {
        "colab": {
          "base_uri": "https://localhost:8080/"
        },
        "id": "_dN3TOTzqkUo",
        "outputId": "c4dcde3b-7a28-4c0c-c2d0-6ba950d8b677"
      },
      "source": [
        "print(len(train_images), len(val_images))"
      ],
      "execution_count": 54,
      "outputs": [
        {
          "output_type": "stream",
          "text": [
            "5920 1458\n"
          ],
          "name": "stdout"
        }
      ]
    },
    {
      "cell_type": "code",
      "metadata": {
        "colab": {
          "base_uri": "https://localhost:8080/"
        },
        "id": "XvUIQc3BqoOQ",
        "outputId": "7d8ece6c-4215-4dba-e43d-6e5617f8050f"
      },
      "source": [
        "train_images[:10]"
      ],
      "execution_count": 55,
      "outputs": [
        {
          "output_type": "execute_result",
          "data": {
            "text/plain": [
              "['Ragdoll_118.jpg',\n",
              " 'Persian_194.jpg',\n",
              " 'german_shorthaired_60.jpg',\n",
              " 'Ragdoll_132.jpg',\n",
              " 'german_shorthaired_128.jpg',\n",
              " 'wheaten_terrier_197.jpg',\n",
              " 'chihuahua_159.jpg',\n",
              " 'shiba_inu_205.jpg',\n",
              " 'Sphynx_155.jpg',\n",
              " 'Russian_Blue_29.jpg']"
            ]
          },
          "metadata": {
            "tags": []
          },
          "execution_count": 55
        }
      ]
    },
    {
      "cell_type": "code",
      "metadata": {
        "colab": {
          "base_uri": "https://localhost:8080/"
        },
        "id": "CLH29-n1qqeP",
        "outputId": "0fbaa630-dbbb-478b-af5f-9e95c7228626"
      },
      "source": [
        "val_images[:10]"
      ],
      "execution_count": 56,
      "outputs": [
        {
          "output_type": "execute_result",
          "data": {
            "text/plain": [
              "['american_pit_bull_terrier_69.jpg',\n",
              " 'Siamese_83.jpg',\n",
              " 'scottish_terrier_73.jpg',\n",
              " 'beagle_63.jpg',\n",
              " 'american_pit_bull_terrier_76.jpg',\n",
              " 'boxer_89.jpg',\n",
              " 'miniature_pinscher_96.jpg',\n",
              " 'chihuahua_93.jpg',\n",
              " 'Birman_85.jpg',\n",
              " 'Ragdoll_74.jpg']"
            ]
          },
          "metadata": {
            "tags": []
          },
          "execution_count": 56
        }
      ]
    },
    {
      "cell_type": "markdown",
      "metadata": {
        "id": "NvJflXuHq0sG"
      },
      "source": [
        "#TFRecord File 만들기"
      ]
    },
    {
      "cell_type": "code",
      "metadata": {
        "id": "_5QL0ZPBqr9o"
      },
      "source": [
        ""
      ],
      "execution_count": null,
      "outputs": []
    }
  ]
}